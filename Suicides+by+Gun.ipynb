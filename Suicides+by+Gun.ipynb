{
 "cells": [
  {
   "cell_type": "code",
   "execution_count": 116,
   "metadata": {
    "collapsed": true
   },
   "outputs": [],
   "source": [
    "import pandas as pd\n",
    "import numpy as np\n",
    "import matplotlib.pyplot as plt\n",
    "import seaborn as sns\n",
    "%matplotlib inline"
   ]
  },
  {
   "cell_type": "code",
   "execution_count": 117,
   "metadata": {},
   "outputs": [],
   "source": [
    "df = pd.read_csv('/Users/rosenrot/Downloads/output.csv')"
   ]
  },
  {
   "cell_type": "code",
   "execution_count": 118,
   "metadata": {
    "collapsed": true
   },
   "outputs": [],
   "source": [
    "df.rename(columns={'Number': 'Number of suicides', 'Percent': 'Percentage from Total deaths'}, inplace=True)"
   ]
  },
  {
   "cell_type": "code",
   "execution_count": 119,
   "metadata": {},
   "outputs": [
    {
     "data": {
      "text/plain": [
       "Index(['State', 'Year', 'Number ', 'Percentage from Total deaths'], dtype='object')"
      ]
     },
     "execution_count": 119,
     "metadata": {},
     "output_type": "execute_result"
    }
   ],
   "source": [
    "df.columns"
   ]
  },
  {
   "cell_type": "code",
   "execution_count": 120,
   "metadata": {},
   "outputs": [],
   "source": [
    "\n",
    "df['State Rank'] = ''"
   ]
  },
  {
   "cell_type": "code",
   "execution_count": 121,
   "metadata": {},
   "outputs": [],
   "source": [
    "df.loc[df['State'] == 'Alaska', ['State Rank']] = 4\n",
    "df.loc[df['State'] == 'Massachusetts', ['State Rank']] = 2\n",
    "df.loc[df['State'] == 'Maryland', ['State Rank']] = 3\n",
    "df.loc[df['State'] == 'Oregon', ['State Rank']] = 5\n",
    "df.loc[df['State'] == 'South Carolina', ['State Rank']] = 7\n",
    "df.loc[df['State'] == 'Virginia', ['State Rank']] = 6\n",
    "df.loc[df['State'] == 'New Jersey', ['State Rank']] = 1\n",
    "\n"
   ]
  },
  {
   "cell_type": "code",
   "execution_count": 122,
   "metadata": {},
   "outputs": [],
   "source": [
    "df['Population in that Particular Year'] = ''"
   ]
  },
  {
   "cell_type": "code",
   "execution_count": 123,
   "metadata": {},
   "outputs": [],
   "source": [
    "df.loc[0,'Population in that Particular Year'] = 648414\n",
    "df.loc[1,'Population in that Particular Year'] = 659286\n",
    "df.loc[2,'Population in that Particular Year'] = 666946\n",
    "df.loc[3,'Population in that Particular Year'] = 675302\n",
    "df.loc[4,'Population in that Particular Year'] = 680300\n",
    "df.loc[5,'Population in that Particular Year'] = 687455\n",
    "df.loc[6,'Population in that Particular Year'] = 698895\n",
    "df.loc[7,'Population in that Particular Year'] = 713985\n",
    "df.loc[8,'Population in that Particular Year'] = 722713\n",
    "df.loc[9,'Population in that Particular Year'] = 731089\n",
    "df.loc[10,'Population in that Particular Year'] = 736879\n",
    "df.loc[11,'Population in that Particular Year'] = 736705\n",
    "\n",
    "    "
   ]
  },
  {
   "cell_type": "code",
   "execution_count": 124,
   "metadata": {},
   "outputs": [],
   "source": [
    "df.loc[12,'Population in that Particular Year'] = 5496000\n",
    "df.loc[13,'Population in that Particular Year'] = 5547000\n",
    "df.loc[14,'Population in that Particular Year'] = 5592000\n",
    "df.loc[15,'Population in that Particular Year'] = 5627000\n",
    "df.loc[16,'Population in that Particular Year'] = 5653000\n",
    "df.loc[17,'Population in that Particular Year'] = 5685000\n",
    "df.loc[18,'Population in that Particular Year'] = 5730000\n",
    "df.loc[19,'Population in that Particular Year'] = 5786000\n",
    "df.loc[20,'Population in that Particular Year'] = 5844000\n",
    "df.loc[21,'Population in that Particular Year'] = 5890000\n",
    "df.loc[22,'Population in that Particular Year'] = 5931000\n",
    "df.loc[23,'Population in that Particular Year'] = 5967000\n"
   ]
  },
  {
   "cell_type": "code",
   "execution_count": 125,
   "metadata": {
    "collapsed": true
   },
   "outputs": [],
   "source": [
    "df.loc[24,'Population in that Particular Year'] = 6423000\n",
    "df.loc[25,'Population in that Particular Year'] = 6412000\n",
    "df.loc[26,'Population in that Particular Year'] = 6403000\n",
    "df.loc[27,'Population in that Particular Year'] = 6410000\n",
    "df.loc[28,'Population in that Particular Year'] = 6432000\n",
    "df.loc[29,'Population in that Particular Year'] = 6469000\n",
    "df.loc[30,'Population in that Particular Year'] = 6518000\n",
    "df.loc[31,'Population in that Particular Year'] = 6557000\n",
    "df.loc[32,'Population in that Particular Year'] = 6612000\n",
    "df.loc[33,'Population in that Particular Year'] = 6658000\n",
    "df.loc[34,'Population in that Particular Year'] = 6707000\n",
    "df.loc[35,'Population in that Particular Year'] = 6750000\n",
    "\n",
    "\n"
   ]
  },
  {
   "cell_type": "code",
   "execution_count": 126,
   "metadata": {
    "collapsed": true
   },
   "outputs": [],
   "source": [
    "df.loc[36,'Population in that Particular Year'] = 8601000\n",
    "df.loc[37,'Population in that Particular Year'] = 8635000\n",
    "df.loc[38,'Population in that Particular Year'] = 8652000\n",
    "df.loc[39,'Population in that Particular Year'] = 8662000\n",
    "df.loc[40,'Population in that Particular Year'] = 8678000\n",
    "df.loc[41,'Population in that Particular Year'] = 8711000\n",
    "df.loc[42,'Population in that Particular Year'] = 8756000\n",
    "df.loc[43,'Population in that Particular Year'] = 8802000\n",
    "df.loc[44,'Population in that Particular Year'] = 8841000\n",
    "df.loc[45,'Population in that Particular Year'] = 8873000\n",
    "df.loc[46,'Population in that Particular Year'] = 8899000\n",
    "df.loc[47,'Population in that Particular Year'] = 8925000\n",
    "\n"
   ]
  },
  {
   "cell_type": "code",
   "execution_count": 127,
   "metadata": {
    "collapsed": true
   },
   "outputs": [],
   "source": [
    "df.loc[48,'Population in that Particular Year'] = 3547000\n",
    "df.loc[49,'Population in that Particular Year'] = 3569000\n",
    "df.loc[50,'Population in that Particular Year'] = 3613000\n",
    "df.loc[51,'Population in that Particular Year'] = 3671000\n",
    "df.loc[52,'Population in that Particular Year'] = 3722000\n",
    "df.loc[53,'Population in that Particular Year'] = 3769000\n",
    "df.loc[54,'Population in that Particular Year'] = 3809000\n",
    "df.loc[55,'Population in that Particular Year'] = 3839000\n",
    "df.loc[56,'Population in that Particular Year'] = 3868000\n",
    "df.loc[57,'Population in that Particular Year'] = 3899000\n",
    "df.loc[58,'Population in that Particular Year'] = 3926000\n",
    "df.loc[59,'Population in that Particular Year'] = 3968000\n",
    "df.loc[60,'Population in that Particular Year'] = 4150000\n"
   ]
  },
  {
   "cell_type": "code",
   "execution_count": 128,
   "metadata": {
    "collapsed": true
   },
   "outputs": [],
   "source": [
    "df.loc[61,'Population in that Particular Year'] = 4211000\n",
    "df.loc[62,'Population in that Particular Year'] = 4270000\n",
    "df.loc[63,'Population in that Particular Year'] = 4358000\n",
    "df.loc[64,'Population in that Particular Year'] = 4444000\n",
    "df.loc[65,'Population in that Particular Year'] = 4529000\n",
    "df.loc[66,'Population in that Particular Year'] = 4590000\n",
    "df.loc[67,'Population in that Particular Year'] = 4636000\n",
    "df.loc[68,'Population in that Particular Year'] = 4673000\n",
    "df.loc[69,'Population in that Particular Year'] = 4721000\n",
    "df.loc[70,'Population in that Particular Year'] = 4768000\n",
    "df.loc[71,'Population in that Particular Year'] = 4828000\n",
    "df.loc[72,'Population in that Particular Year'] = 7367000"
   ]
  },
  {
   "cell_type": "code",
   "execution_count": 129,
   "metadata": {},
   "outputs": [],
   "source": [
    "df.loc[73,'Population in that Particular Year'] = 7476000\n",
    "df.loc[74,'Population in that Particular Year'] = 7577000\n",
    "df.loc[75,'Population in that Particular Year'] = 7674000\n",
    "df.loc[76,'Population in that Particular Year'] = 7751000\n",
    "df.loc[77,'Population in that Particular Year'] = 7833000\n",
    "df.loc[78,'Population in that Particular Year'] = 7926000\n",
    "df.loc[79,'Population in that Particular Year'] = 8025000\n",
    "df.loc[80,'Population in that Particular Year'] = 8110000\n",
    "df.loc[81,'Population in that Particular Year'] = 8192000\n",
    "df.loc[82,'Population in that Particular Year'] = 8263000\n",
    "df.loc[83,'Population in that Particular Year'] = 8317000\n"
   ]
  },
  {
   "cell_type": "code",
   "execution_count": 130,
   "metadata": {
    "collapsed": true
   },
   "outputs": [],
   "source": [
    "df.to_csv('/Users/rosenrot/Downloads/Suicide_By_Gun.csv')"
   ]
  },
  {
   "cell_type": "code",
   "execution_count": null,
   "metadata": {
    "collapsed": true
   },
   "outputs": [],
   "source": []
  },
  {
   "cell_type": "code",
   "execution_count": null,
   "metadata": {
    "collapsed": true
   },
   "outputs": [],
   "source": []
  }
 ],
 "metadata": {
  "kernelspec": {
   "display_name": "Python 3",
   "language": "python",
   "name": "python3"
  },
  "language_info": {
   "codemirror_mode": {
    "name": "ipython",
    "version": 3
   },
   "file_extension": ".py",
   "mimetype": "text/x-python",
   "name": "python",
   "nbconvert_exporter": "python",
   "pygments_lexer": "ipython3",
   "version": "3.6.2"
  }
 },
 "nbformat": 4,
 "nbformat_minor": 2
}
